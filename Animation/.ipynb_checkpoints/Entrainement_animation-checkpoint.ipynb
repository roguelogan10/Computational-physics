{
 "cells": [
  {
   "cell_type": "code",
   "execution_count": 4,
   "id": "b0b918c7-e47c-4cd1-9ef2-264fb0919f5f",
   "metadata": {},
   "outputs": [],
   "source": [
    "import matplotlib.pyplot as plt\n",
    "from matplotlib.animation import FuncAnimation\n",
    "from IPython.display import HTML\n",
    "import numpy as np "
   ]
  },
  {
   "cell_type": "code",
   "execution_count": null,
   "id": "733c096c-fc5f-4039-84d1-20a48c7828d6",
   "metadata": {},
   "outputs": [],
   "source": [
    "fig, ax = plt.subplots()\n",
    "\n",
    "t = np.linspace(0,20, 500)\n",
    "\n",
    "def altitude(temps, v0, g=9.81):\n",
    "    return -0.5*g*temps**2+v0*temps\n",
    "\n",
    "pos_1 = altitude(t, 5)\n",
    "pos_2 = altitude(t, 7)\n",
    "\n",
    "scat = plt.scatter(t[0], pos_1[0], label=f'Projecctile lancée à la vitesse initial v0 = {5} m/s')\n",
    "line,  = plt.plot(t[0], pos_2[0], label=f'Projecctile lancée à la vitesse initial v0 = {7} m/s')\n",
    "ax.set_xlim(0,2)\n",
    "ax.set_ylim(0, max(pos_2)+0.2)\n",
    "ax.set_xlabel('Axe horizontal')\n",
    "ax.set_ylabel('Altitude')\n",
    "ax.legend()\n",
    "def update(frame):\n",
    "    time = t[:frame]\n",
    "    Pos_1 = pos_1[:frame]\n",
    "    Pos_2 = pos_2[:frame]\n",
    "    # mise à jour des lines plots\n",
    "    data = np.stack([time, Pos_1]).T\n",
    "    line.set_xdata(time)\n",
    "    line.set_ydata(Pos_2)\n",
    "    # mise à jour des scatters plots\n",
    "    scat.set_offsets(data)\n",
    "    return (line,scat)\n",
    "\n",
    "animation = FuncAnimation(fig = fig, func = update, frames = 100, interval = 100)\n",
    "video = animation.to_jshtml()\n",
    "html = HTML(video)\n",
    "display(html)\n",
    "plt.close()\n",
    "\n"
   ]
  },
  {
   "cell_type": "code",
   "execution_count": null,
   "id": "18439c2b-f62a-4d6c-b075-eb3249c0d2b6",
   "metadata": {},
   "outputs": [],
   "source": []
  }
 ],
 "metadata": {
  "kernelspec": {
   "display_name": "Python 3 (ipykernel)",
   "language": "python",
   "name": "python3"
  },
  "language_info": {
   "codemirror_mode": {
    "name": "ipython",
    "version": 3
   },
   "file_extension": ".py",
   "mimetype": "text/x-python",
   "name": "python",
   "nbconvert_exporter": "python",
   "pygments_lexer": "ipython3",
   "version": "3.13.2"
  }
 },
 "nbformat": 4,
 "nbformat_minor": 5
}
