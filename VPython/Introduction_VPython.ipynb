{
 "cells": [
  {
   "cell_type": "code",
   "execution_count": 3,
   "id": "4b21cd07",
   "metadata": {},
   "outputs": [],
   "source": [
    "import vpython as vp"
   ]
  },
  {
   "cell_type": "markdown",
   "id": "575448cd",
   "metadata": {},
   "source": [
    "### Create a 3d ball "
   ]
  },
  {
   "cell_type": "code",
   "execution_count": 5,
   "id": "4369672d",
   "metadata": {},
   "outputs": [
    {
     "ename": "FileNotFoundError",
     "evalue": "[Errno 2] No such file or directory: '/home/fabrice/.local/share/jupyter'",
     "output_type": "error",
     "traceback": [
      "\u001b[31m---------------------------------------------------------------------------\u001b[39m",
      "\u001b[31mFileNotFoundError\u001b[39m                         Traceback (most recent call last)",
      "\u001b[36mCell\u001b[39m\u001b[36m \u001b[39m\u001b[32mIn[5]\u001b[39m\u001b[32m, line 1\u001b[39m\n\u001b[32m----> \u001b[39m\u001b[32m1\u001b[39m ball = \u001b[43mvp\u001b[49m\u001b[43m.\u001b[49m\u001b[43msphere\u001b[49m\u001b[43m(\u001b[49m\u001b[43m)\u001b[49m\n\u001b[32m      2\u001b[39m \u001b[38;5;28;01mwhile\u001b[39;00m \u001b[38;5;28;01mTrue\u001b[39;00m:\n\u001b[32m      3\u001b[39m     \u001b[38;5;28;01mpass\u001b[39;00m \n",
      "\u001b[36mFile \u001b[39m\u001b[32m~/anaconda3/envs/cp_env/lib/python3.13/site-packages/vpython/vpython.py:1189\u001b[39m, in \u001b[36msphere.__init__\u001b[39m\u001b[34m(self, **args)\u001b[39m\n\u001b[32m   1187\u001b[39m args[\u001b[33m'\u001b[39m\u001b[33m_default_size\u001b[39m\u001b[33m'\u001b[39m] = vector(\u001b[32m2\u001b[39m,\u001b[32m2\u001b[39m,\u001b[32m2\u001b[39m)\n\u001b[32m   1188\u001b[39m args[\u001b[33m'\u001b[39m\u001b[33m_objName\u001b[39m\u001b[33m'\u001b[39m] = \u001b[33m\"\u001b[39m\u001b[33msphere\u001b[39m\u001b[33m\"\u001b[39m\n\u001b[32m-> \u001b[39m\u001b[32m1189\u001b[39m \u001b[38;5;28;43msuper\u001b[39;49m\u001b[43m(\u001b[49m\u001b[43msphere\u001b[49m\u001b[43m,\u001b[49m\u001b[43m \u001b[49m\u001b[38;5;28;43mself\u001b[39;49m\u001b[43m)\u001b[49m\u001b[43m.\u001b[49m\u001b[43msetup\u001b[49m\u001b[43m(\u001b[49m\u001b[43margs\u001b[49m\u001b[43m)\u001b[49m\n\u001b[32m   1190\u001b[39m \u001b[38;5;28mself\u001b[39m._sizing = \u001b[38;5;28;01mFalse\u001b[39;00m\n",
      "\u001b[36mFile \u001b[39m\u001b[32m~/anaconda3/envs/cp_env/lib/python3.13/site-packages/vpython/vpython.py:612\u001b[39m, in \u001b[36mstandardAttributes.setup\u001b[39m\u001b[34m(self, args)\u001b[39m\n\u001b[32m    611\u001b[39m \u001b[38;5;28;01mdef\u001b[39;00m\u001b[38;5;250m \u001b[39m\u001b[34msetup\u001b[39m(\u001b[38;5;28mself\u001b[39m, args):\n\u001b[32m--> \u001b[39m\u001b[32m612\u001b[39m     \u001b[38;5;28;43msuper\u001b[39;49m\u001b[43m(\u001b[49m\u001b[43mstandardAttributes\u001b[49m\u001b[43m,\u001b[49m\u001b[43m \u001b[49m\u001b[38;5;28;43mself\u001b[39;49m\u001b[43m)\u001b[49m\u001b[43m.\u001b[49m\u001b[34;43m__init__\u001b[39;49m\u001b[43m(\u001b[49m\u001b[43m)\u001b[49m\n\u001b[32m    613\u001b[39m     \u001b[38;5;28mself\u001b[39m._constructing = \u001b[38;5;28;01mTrue\u001b[39;00m  \u001b[38;5;66;03m## calls to setters are from constructor\u001b[39;00m\n\u001b[32m    615\u001b[39m     objName = \u001b[38;5;28mself\u001b[39m._objName = args[\u001b[33m'\u001b[39m\u001b[33m_objName\u001b[39m\u001b[33m'\u001b[39m]  \u001b[38;5;66;03m## identifies object type\u001b[39;00m\n",
      "\u001b[36mFile \u001b[39m\u001b[32m~/anaconda3/envs/cp_env/lib/python3.13/site-packages/vpython/vpython.py:265\u001b[39m, in \u001b[36mbaseObj.__init__\u001b[39m\u001b[34m(self, **kwargs)\u001b[39m\n\u001b[32m    262\u001b[39m \u001b[38;5;28;01mif\u001b[39;00m \u001b[38;5;129;01mnot\u001b[39;00m (baseObj._view_constructed \u001b[38;5;129;01mor\u001b[39;00m\n\u001b[32m    263\u001b[39m         baseObj._canvas_constructing):\n\u001b[32m    264\u001b[39m     \u001b[38;5;28;01mif\u001b[39;00m _isnotebook:\n\u001b[32m--> \u001b[39m\u001b[32m265\u001b[39m         \u001b[38;5;28;01mfrom\u001b[39;00m\u001b[38;5;250m \u001b[39m\u001b[34;01m.\u001b[39;00m\u001b[34;01mwith_notebook\u001b[39;00m\u001b[38;5;250m \u001b[39m\u001b[38;5;28;01mimport\u001b[39;00m _\n\u001b[32m    266\u001b[39m     \u001b[38;5;28;01melse\u001b[39;00m:\n\u001b[32m    267\u001b[39m         \u001b[38;5;28;01mfrom\u001b[39;00m\u001b[38;5;250m \u001b[39m\u001b[34;01m.\u001b[39;00m\u001b[34;01mno_notebook\u001b[39;00m\u001b[38;5;250m \u001b[39m\u001b[38;5;28;01mimport\u001b[39;00m _\n",
      "\u001b[36mFile \u001b[39m\u001b[32m~/anaconda3/envs/cp_env/lib/python3.13/site-packages/vpython/with_notebook.py:71\u001b[39m\n\u001b[32m     66\u001b[39m         \u001b[38;5;28;01mexcept\u001b[39;00m \u001b[38;5;167;01mPermissionError\u001b[39;00m:\n\u001b[32m     67\u001b[39m             \u001b[38;5;66;03m#logging.info(\"PermissionError: Unable to install /vpython_data directory and files for VPython on JupyterLab\")\u001b[39;00m\n\u001b[32m     68\u001b[39m             \u001b[38;5;28;01mpass\u001b[39;00m\n\u001b[32m---> \u001b[39m\u001b[32m71\u001b[39m \u001b[38;5;28;01mif\u001b[39;00m (\u001b[33m'\u001b[39m\u001b[33mnbextensions\u001b[39m\u001b[33m'\u001b[39m \u001b[38;5;129;01min\u001b[39;00m \u001b[43mos\u001b[49m\u001b[43m.\u001b[49m\u001b[43mlistdir\u001b[49m\u001b[43m(\u001b[49m\u001b[43mjd\u001b[49m\u001b[43m)\u001b[49m) \u001b[38;5;129;01mand\u001b[39;00m (notebook.__version__ <= \u001b[33m'\u001b[39m\u001b[33m6.5.5\u001b[39m\u001b[33m'\u001b[39m):\n\u001b[32m     72\u001b[39m     ldir = os.listdir(nbdir)\n\u001b[32m     73\u001b[39m     \u001b[38;5;28;01mif\u001b[39;00m (\u001b[33m'\u001b[39m\u001b[33mvpython_data\u001b[39m\u001b[33m'\u001b[39m \u001b[38;5;129;01min\u001b[39;00m ldir \u001b[38;5;129;01mand\u001b[39;00m \u001b[38;5;28mlen\u001b[39m(os.listdir(nbdata)) == datacnt \u001b[38;5;129;01mand\u001b[39;00m\n\u001b[32m     74\u001b[39m        \u001b[33m'\u001b[39m\u001b[33mvpython_libraries\u001b[39m\u001b[33m'\u001b[39m \u001b[38;5;129;01min\u001b[39;00m ldir \u001b[38;5;129;01mand\u001b[39;00m \u001b[38;5;28mlen\u001b[39m(os.listdir(nblib)) == libcnt \u001b[38;5;129;01mand\u001b[39;00m\n\u001b[32m     75\u001b[39m         \u001b[33m'\u001b[39m\u001b[33mvpython_version.txt\u001b[39m\u001b[33m'\u001b[39m \u001b[38;5;129;01min\u001b[39;00m ldir):\n",
      "\u001b[31mFileNotFoundError\u001b[39m: [Errno 2] No such file or directory: '/home/fabrice/.local/share/jupyter'"
     ]
    }
   ],
   "source": [
    "ball = vp.sphere()\n",
    "while True:\n",
    "    pass "
   ]
  },
  {
   "cell_type": "code",
   "execution_count": null,
   "id": "fb9832d8",
   "metadata": {},
   "outputs": [],
   "source": []
  }
 ],
 "metadata": {
  "kernelspec": {
   "display_name": "cp_env",
   "language": "python",
   "name": "python3"
  },
  "language_info": {
   "codemirror_mode": {
    "name": "ipython",
    "version": 3
   },
   "file_extension": ".py",
   "mimetype": "text/x-python",
   "name": "python",
   "nbconvert_exporter": "python",
   "pygments_lexer": "ipython3",
   "version": "3.13.2"
  }
 },
 "nbformat": 4,
 "nbformat_minor": 5
}
